{
  "metadata": {
    "language_info": {
      "codemirror_mode": {
        "name": "python",
        "version": 3
      },
      "file_extension": ".py",
      "mimetype": "text/x-python",
      "name": "python",
      "nbconvert_exporter": "python",
      "pygments_lexer": "ipython3",
      "version": "3.8"
    },
    "kernelspec": {
      "name": "python",
      "display_name": "Python (Pyodide)",
      "language": "python"
    }
  },
  "nbformat_minor": 4,
  "nbformat": 4,
  "cells": [
    {
      "cell_type": "code",
      "source": "#Q-1:\nGet and Post methods are the HTTP request methods used inside the <form> tag\nto send form data to the server. HTTP protocol enables the communication \nbetween the client and the server where a browser can be the client, and \nan application running on a computer system \nthat hosts your website can be the server.\n  #Get-pass the data in url and not secure\n    # post() pass the data confidentially through body without displying",
      "metadata": {},
      "execution_count": null,
      "outputs": []
    },
    {
      "cell_type": "code",
      "source": "#Q-2:\nThe Request, \nin Flask, is an object that contains all the data sent from the Client to Server. \nThis data can be recovered using the GET/POST Methods\n",
      "metadata": {},
      "execution_count": null,
      "outputs": []
    },
    {
      "cell_type": "code",
      "source": "#Q-3:Flask class has a redirect() function. When called, \nit returns a response object and redirects the user to another target location \nwith specified status code.\nlocation parameter is the URL where response should be redirected\n",
      "metadata": {},
      "execution_count": null,
      "outputs": []
    },
    {
      "cell_type": "code",
      "source": "#Q-4:\nTemplates are files that contain static data as well as placeholders for \ndynamic data. A template is rendered with specific data to produce a final document.\nFlask uses the Jinja template library to render templates. In your application,\nyou will use templates to render HTML\nwhich will display in the user's browser.\n render template-It basically allows creating web applications in a Pythonic syntax and concepts",
      "metadata": {},
      "execution_count": null,
      "outputs": []
    }
  ]
}