{
  "metadata": {
    "language_info": {
      "codemirror_mode": {
        "name": "python",
        "version": 3
      },
      "file_extension": ".py",
      "mimetype": "text/x-python",
      "name": "python",
      "nbconvert_exporter": "python",
      "pygments_lexer": "ipython3",
      "version": "3.8"
    },
    "kernelspec": {
      "name": "python",
      "display_name": "Python (Pyodide)",
      "language": "python"
    }
  },
  "nbformat_minor": 4,
  "nbformat": 4,
  "cells": [
    {
      "cell_type": "code",
      "source": "from flask import Flask, jsonify, request\napp= Flask(__name__)\n@app.route(\"/name\", methods=[\"POST\"])\ndef setName():\n    if request.method=='POST':\n        posted_data = request.get_json()\n        data = posted_data['data']\n        return jsonify(str(\"Successfully stored  \" + str(data))\n@app.route(\"/message\", methods=[\"GET\"])\ndef message():\n    posted_data = request.get_json()\n    name = posted_data['name']\n    return jsonify(\" Hope you are having a good time \" +  name + \"!!!\")\nif __name__=='__main__':\n   app.run(debug=True)\n                       ",
      "metadata": {},
      "execution_count": null,
      "outputs": []
    },
    {
      "cell_type": "code",
      "source": "# as using ubuntu i couldnt be able to test this API using Postman.",
      "metadata": {},
      "execution_count": null,
      "outputs": []
    }
  ]
}